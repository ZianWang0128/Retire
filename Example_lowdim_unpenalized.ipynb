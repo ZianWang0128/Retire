{
 "cells": [
  {
   "cell_type": "code",
   "execution_count": 1,
   "id": "91dce286",
   "metadata": {},
   "outputs": [],
   "source": [
    "import retire_nonconvex as retire\n",
    "import numpy as np\n",
    "import numpy.random as rgt\n",
    "import pandas as pd"
   ]
  },
  {
   "cell_type": "code",
   "execution_count": 2,
   "id": "59093629",
   "metadata": {},
   "outputs": [],
   "source": [
    "n, p = 200, 10\n",
    "itcp, beta, true_loc = 2, np.zeros(p), np.zeros(p)\n",
    "beta[:10] = [1.8,  1.6,  1.4,  1.2,  1,  -1,  -1.2, -1.4, -1.6, -1.8] #s = 10\n",
    "true_active_set = np.where(beta!=0)[0]  #true_active_set is of size s\n",
    "true_loc[true_active_set] = 1           #true_loc is of size p, with only s entries = 1 and p-s entries = 0\n",
    "\n",
    "cov_matrix = np.zeros((p,p))\n",
    "for i in range(p):\n",
    "    for j in range(p):\n",
    "        cov_matrix[i,j] = 0.5**abs(i-j)"
   ]
  },
  {
   "cell_type": "code",
   "execution_count": 3,
   "id": "226d84ae",
   "metadata": {},
   "outputs": [],
   "source": [
    "def sim(tau_input=0.5, quantile=0, expectile=0, M=10, robust=(n/np.log(n*p))**0.5,\\\n",
    "        noise_type='normal', model_type='model1'):\n",
    "    print('model_type=',model_type, ' noise_type=',noise_type, ' robust=',robust)\n",
    "    print(\"tau=\",tau_input, ' expectile=',expectile, ' quantile=',quantile, ' M=', M, '\\n')\n",
    "    l2loss_vec_retire = np.zeros(M)\n",
    "    for m in range(M):\n",
    "        rgt.seed(100+m)\n",
    "        X = rgt.multivariate_normal(np.zeros(p), cov_matrix, size = n)\n",
    "        \n",
    "        if noise_type == 'normal':\n",
    "            noise = rgt.normal(0,2**0.5,n) #sd=sqrt(2)\n",
    "        elif noise_type == 't':\n",
    "            noise = rgt.standard_t(2.1,n)\n",
    "        else:\n",
    "            raise ValueError(\"noise_type must be either normal, t\")\n",
    "            \n",
    "        if model_type == 'model1':\n",
    "            Y = itcp + X.dot(beta) + noise                                         #Homoscedastic \n",
    "        elif model_type == 'model2':\n",
    "            Y = itcp + X.dot(beta) + (0.5 + 0.5*abs(X[:,-1]))*(noise - quantile)   #Quantile Hetero\n",
    "        elif model_type == 'model3':\n",
    "            Y = itcp + X.dot(beta) + (0.5 + 0.5*abs(X[:,-1]))*(noise - expectile)  #Expectile Hetero\n",
    "        else:\n",
    "            raise ValueError(\"model_type must be either model1, model2, model3\")\n",
    "            \n",
    "        temp = retire.low_dim(X, Y)\n",
    "        result_temp_retire = temp.fit(tau_input,robust=robust, standardize=True, adjust=True)   \n",
    "        l2loss_retire = (np.sum((result_temp_retire['beta'][1:] - beta)**2) + (result_temp_retire['beta'][0]-itcp)**2)**0.5 \n",
    "        l2loss_vec_retire[m] = l2loss_retire    \n",
    "        \n",
    "    data_ld = {'l2loss_reitre':l2loss_vec_retire}\n",
    "    df = pd.DataFrame(data_ld)\n",
    "    return(df)"
   ]
  },
  {
   "cell_type": "code",
   "execution_count": 4,
   "id": "0ee1b1d0",
   "metadata": {},
   "outputs": [],
   "source": [
    "M=10                                #number of repetition\n",
    "robust = (n/(p + np.log(n)))**0.5   #(n/np.log(n*p))**0.5 or False [lowdim robust]\n",
    "model_type = 'model3'               #'model1' or 'model2' or 'model3'\n",
    "tau_input = 0.5                     #0.5 or 0.8\n",
    "noise_type = 'normal'               #'normal' or 't'\n",
    "quantile = 0                        #depends on noise type and tau level\n",
    "expectile = 0.0                     #depends on noise type and tau level"
   ]
  },
  {
   "cell_type": "code",
   "execution_count": 5,
   "id": "92c73c21",
   "metadata": {},
   "outputs": [
    {
     "name": "stdout",
     "output_type": "stream",
     "text": [
      "model_type= model3  noise_type= normal  robust= 3.6157064563212673\n",
      "tau= 0.5  expectile= 0.0  quantile= 0  M= 10 \n",
      "\n"
     ]
    },
    {
     "data": {
      "text/html": [
       "<div>\n",
       "<style scoped>\n",
       "    .dataframe tbody tr th:only-of-type {\n",
       "        vertical-align: middle;\n",
       "    }\n",
       "\n",
       "    .dataframe tbody tr th {\n",
       "        vertical-align: top;\n",
       "    }\n",
       "\n",
       "    .dataframe thead th {\n",
       "        text-align: right;\n",
       "    }\n",
       "</style>\n",
       "<table border=\"1\" class=\"dataframe\">\n",
       "  <thead>\n",
       "    <tr style=\"text-align: right;\">\n",
       "      <th></th>\n",
       "      <th>l2loss_reitre</th>\n",
       "    </tr>\n",
       "  </thead>\n",
       "  <tbody>\n",
       "    <tr>\n",
       "      <th>0</th>\n",
       "      <td>0.289138</td>\n",
       "    </tr>\n",
       "    <tr>\n",
       "      <th>1</th>\n",
       "      <td>0.278213</td>\n",
       "    </tr>\n",
       "    <tr>\n",
       "      <th>2</th>\n",
       "      <td>0.269231</td>\n",
       "    </tr>\n",
       "    <tr>\n",
       "      <th>3</th>\n",
       "      <td>0.441292</td>\n",
       "    </tr>\n",
       "    <tr>\n",
       "      <th>4</th>\n",
       "      <td>0.367157</td>\n",
       "    </tr>\n",
       "    <tr>\n",
       "      <th>5</th>\n",
       "      <td>0.405818</td>\n",
       "    </tr>\n",
       "    <tr>\n",
       "      <th>6</th>\n",
       "      <td>0.414273</td>\n",
       "    </tr>\n",
       "    <tr>\n",
       "      <th>7</th>\n",
       "      <td>0.529930</td>\n",
       "    </tr>\n",
       "    <tr>\n",
       "      <th>8</th>\n",
       "      <td>0.508145</td>\n",
       "    </tr>\n",
       "    <tr>\n",
       "      <th>9</th>\n",
       "      <td>0.259511</td>\n",
       "    </tr>\n",
       "  </tbody>\n",
       "</table>\n",
       "</div>"
      ],
      "text/plain": [
       "   l2loss_reitre\n",
       "0       0.289138\n",
       "1       0.278213\n",
       "2       0.269231\n",
       "3       0.441292\n",
       "4       0.367157\n",
       "5       0.405818\n",
       "6       0.414273\n",
       "7       0.529930\n",
       "8       0.508145\n",
       "9       0.259511"
      ]
     },
     "execution_count": 5,
     "metadata": {},
     "output_type": "execute_result"
    }
   ],
   "source": [
    "df = sim(tau_input, quantile, expectile, M, robust, noise_type, model_type)\n",
    "df"
   ]
  },
  {
   "cell_type": "code",
   "execution_count": 6,
   "id": "ce34f3fc",
   "metadata": {},
   "outputs": [
    {
     "name": "stdout",
     "output_type": "stream",
     "text": [
      "l2loss_reitre    0.376271\n",
      "dtype: float64\n",
      "l2loss_reitre    0.09996\n",
      "dtype: float64\n"
     ]
    }
   ],
   "source": [
    "print(df.mean())\n",
    "print(df.std())"
   ]
  }
 ],
 "metadata": {
  "kernelspec": {
   "display_name": "Python 3 (ipykernel)",
   "language": "python",
   "name": "python3"
  },
  "language_info": {
   "codemirror_mode": {
    "name": "ipython",
    "version": 3
   },
   "file_extension": ".py",
   "mimetype": "text/x-python",
   "name": "python",
   "nbconvert_exporter": "python",
   "pygments_lexer": "ipython3",
   "version": "3.8.12"
  }
 },
 "nbformat": 4,
 "nbformat_minor": 5
}
